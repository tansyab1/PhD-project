{
 "cells": [
  {
   "cell_type": "code",
   "execution_count": null,
   "id": "awful-prescription",
   "metadata": {},
   "outputs": [],
   "source": [
    "# Accuracy checker: mode \"min\" for loss, mode \"max\" for accuracy\n",
    "class ImproveChecker():\n",
    "    def __init__(self, mode='max', best_val=None):\n",
    "        assert mode in ['min', 'max']\n",
    "        self.mode = mode\n",
    "        if best_val is not None:\n",
    "            self.best_val = best_val\n",
    "        else:\n",
    "            if self.mode=='min':\n",
    "                self.best_val = np.inf\n",
    "            elif self.mode=='max':\n",
    "                self.best_val = 0.0\n",
    "\n",
    "    def _check(self, val):\n",
    "        if self.mode=='min':\n",
    "            if val < self.best_val:\n",
    "                print(\"[%s] Improved from %.4f to %.4f\" % (self.__class__.__name__, self.best_val, val))\n",
    "                self.best_val = val\n",
    "                return True\n",
    "            else:\n",
    "                print(\"[%s] Not improved from %.4f\" % (self.__class__.__name__, self.best_val))\n",
    "                return False\n",
    "        else:\n",
    "            if val > self.best_val:\n",
    "                print(\"[%s] Improved from %.4f to %.4f\" % (self.__class__.__name__, self.best_val, val))\n",
    "                self.best_val = val\n",
    "                return True\n",
    "            else:\n",
    "                print(\"[%s] Not improved from %.4f\" % (self.__class__.__name__, self.best_val))\n",
    "                return False"
   ]
  }
 ],
 "metadata": {
  "kernelspec": {
   "display_name": "Python 3",
   "language": "python",
   "name": "python3"
  },
  "language_info": {
   "codemirror_mode": {
    "name": "ipython",
    "version": 3
   },
   "file_extension": ".py",
   "mimetype": "text/x-python",
   "name": "python",
   "nbconvert_exporter": "python",
   "pygments_lexer": "ipython3",
   "version": "3.9.1"
  }
 },
 "nbformat": 4,
 "nbformat_minor": 5
}
