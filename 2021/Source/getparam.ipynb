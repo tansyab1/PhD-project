{
 "cells": [
  {
   "cell_type": "code",
   "execution_count": null,
   "id": "victorian-quarterly",
   "metadata": {},
   "outputs": [],
   "source": [
    " # Get the parameter (sparse code, weights, biases)\n",
    "class GetParam():\n",
    "    def __init__(self, param_name = 'sparsecode', model = None):\n",
    "        self.param_name = param_name\n",
    "        self.model = model\n",
    "        self.bool_get= False\n",
    "    def _getparam(self, param_name):\n",
    "        for param_name_get, param in self.model.named_parameters():\n",
    "            if param_name_get == param_name:\n",
    "                self.bool_get = True\n",
    "                print(\"Sucessfully: [%s]\" %(param_name), param.data)\n",
    "        if not self.bool_get:\n",
    "            print(\"Error: [%s] parameter is not defined...\" % param_name)\n",
    "        return True"
   ]
  }
 ],
 "metadata": {
  "kernelspec": {
   "display_name": "Python 3",
   "language": "python",
   "name": "python3"
  },
  "language_info": {
   "codemirror_mode": {
    "name": "ipython",
    "version": 3
   },
   "file_extension": ".py",
   "mimetype": "text/x-python",
   "name": "python",
   "nbconvert_exporter": "python",
   "pygments_lexer": "ipython3",
   "version": "3.9.1"
  }
 },
 "nbformat": 4,
 "nbformat_minor": 5
}
