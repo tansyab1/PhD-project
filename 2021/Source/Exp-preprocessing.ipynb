{
 "cells": [
  {
   "cell_type": "code",
   "execution_count": 9,
   "id": "german-lafayette",
   "metadata": {},
   "outputs": [
    {
     "name": "stdout",
     "output_type": "stream",
     "text": [
      "1.7.1+cu101\n"
     ]
    }
   ],
   "source": [
    "import torch\n",
    "print(torch.__version__)"
   ]
  },
  {
   "cell_type": "code",
   "execution_count": 10,
   "id": "processed-valentine",
   "metadata": {},
   "outputs": [
    {
     "name": "stdout",
     "output_type": "stream",
     "text": [
      "CUDA is available!  Training on GPU ...\n"
     ]
    }
   ],
   "source": [
    "train_on_gpu = torch.cuda.is_available()\n",
    "\n",
    "if not train_on_gpu:\n",
    "    print('CUDA is not available.  Training on CPU ...')\n",
    "else:\n",
    "    print('CUDA is available!  Training on GPU ...')"
   ]
  },
  {
   "cell_type": "code",
   "execution_count": 11,
   "id": "expensive-insider",
   "metadata": {},
   "outputs": [
    {
     "name": "stdout",
     "output_type": "stream",
     "text": [
      "Tue Feb 09 15:39:03 2021       \n",
      "+-----------------------------------------------------------------------------+\n",
      "| NVIDIA-SMI 457.07       Driver Version: 457.07       CUDA Version: 11.1     |\n",
      "|-------------------------------+----------------------+----------------------+\n",
      "| GPU  Name            TCC/WDDM | Bus-Id        Disp.A | Volatile Uncorr. ECC |\n",
      "| Fan  Temp  Perf  Pwr:Usage/Cap|         Memory-Usage | GPU-Util  Compute M. |\n",
      "|                               |                      |               MIG M. |\n",
      "|===============================+======================+======================|\n",
      "|   0  GeForce GT 730     WDDM  | 00000000:01:00.0 N/A |                  N/A |\n",
      "| 23%   30C    P8    N/A /  N/A |     40MiB /  2048MiB |     N/A      Default |\n",
      "|                               |                      |                  N/A |\n",
      "+-------------------------------+----------------------+----------------------+\n",
      "                                                                               \n",
      "+-----------------------------------------------------------------------------+\n",
      "| Processes:                                                                  |\n",
      "|  GPU   GI   CI        PID   Type   Process name                  GPU Memory |\n",
      "|        ID   ID                                                   Usage      |\n",
      "|=============================================================================|\n",
      "|  No running processes found                                                 |\n",
      "+-----------------------------------------------------------------------------+\n"
     ]
    }
   ],
   "source": [
    "!nvidia-smi"
   ]
  },
  {
   "cell_type": "code",
   "execution_count": 12,
   "id": "subjective-russian",
   "metadata": {},
   "outputs": [],
   "source": [
    "# Accuracy checker: mode \"min\" for loss, mode \"max\" for accuracy\n",
    "class ImproveChecker():\n",
    "    def __init__(self, mode='max', best_val=None):\n",
    "        assert mode in ['min', 'max']\n",
    "        self.mode = mode\n",
    "        if best_val is not None:\n",
    "            self.best_val = best_val\n",
    "        else:\n",
    "            if self.mode=='min':\n",
    "                self.best_val = np.inf\n",
    "            elif self.mode=='max':\n",
    "                self.best_val = 0.0\n",
    "\n",
    "    def _check(self, val):\n",
    "        if self.mode=='min':\n",
    "            if val < self.best_val:\n",
    "                print(\"[%s] Improved from %.4f to %.4f\" % (self.__class__.__name__, self.best_val, val))\n",
    "                self.best_val = val\n",
    "                return True\n",
    "            else:\n",
    "                print(\"[%s] Not improved from %.4f\" % (self.__class__.__name__, self.best_val))\n",
    "                return False\n",
    "        else:\n",
    "            if val > self.best_val:\n",
    "                print(\"[%s] Improved from %.4f to %.4f\" % (self.__class__.__name__, self.best_val, val))\n",
    "                self.best_val = val\n",
    "                return True\n",
    "            else:\n",
    "                print(\"[%s] Not improved from %.4f\" % (self.__class__.__name__, self.best_val))\n",
    "                return False"
   ]
  },
  {
   "cell_type": "code",
   "execution_count": 13,
   "id": "broadband-tackle",
   "metadata": {},
   "outputs": [],
   "source": [
    " # Get the parameter (sparse code, weights, biases)\n",
    "class GetParam():\n",
    "    def __init__(self, param_name = 'sparsecode', model = None):\n",
    "        self.param_name = param_name\n",
    "        self.model = model\n",
    "        self.bool_get= False\n",
    "    def _getparam(self, param_name):\n",
    "        for param_name_get, param in self.model.named_parameters():\n",
    "            if param_name_get == param_name:\n",
    "                self.bool_get = True\n",
    "                print(\"Sucessfully: [%s]\" %(param_name), param.data)\n",
    "        if not self.bool_get:\n",
    "            print(\"Error: [%s] parameter is not defined...\" % param_name)\n",
    "        return True"
   ]
  },
  {
   "cell_type": "code",
   "execution_count": null,
   "id": "rational-fraction",
   "metadata": {},
   "outputs": [],
   "source": []
  }
 ],
 "metadata": {
  "kernelspec": {
   "display_name": "Python 3",
   "language": "python",
   "name": "python3"
  },
  "language_info": {
   "codemirror_mode": {
    "name": "ipython",
    "version": 3
   },
   "file_extension": ".py",
   "mimetype": "text/x-python",
   "name": "python",
   "nbconvert_exporter": "python",
   "pygments_lexer": "ipython3",
   "version": "3.9.1"
  }
 },
 "nbformat": 4,
 "nbformat_minor": 5
}
